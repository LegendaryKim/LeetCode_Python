{
 "cells": [
  {
   "cell_type": "markdown",
   "metadata": {
    "collapsed": true,
    "pycharm": {
     "name": "#%% md\n"
    }
   },
   "source": [
    "## 1. Two Sum (Easy)\n",
    "\n",
    "Given an array of integers `nums` and an integer `target`, return indices of the two numbers such that they add up to `target`.\n",
    "\n",
    "You may assume that each input would have ***exactly one solution***, and you may not use the same element twice.\n",
    "\n",
    "You can return the answer in any order\n",
    "\n",
    "```\n",
    "Example 1:\n",
    "    Input: nums = [2,7,11,15], target =9\n",
    "    Output: [0, 1]\n",
    "    Output: Because nums[0] + nums[1] == 9, we return [0, 1]\n",
    "\n",
    "Example 2:\n",
    "    Input: nums = [3,2,4], target = 6\n",
    "    Output: [1,2]\n",
    "\n",
    "Example 3:\n",
    "    Input: nums = [3,3], target = 6\n",
    "    Output: [0,1]\n",
    "\n",
    "Constraints:\n",
    "\n",
    "2 <= nums.length <= 103\n",
    "-109 <= nums[i] <= 109\n",
    "-109 <= target <= 109\n",
    "Only one valid answer exists.\n",
    "```"
   ]
  },
  {
   "cell_type": "code",
   "execution_count": null,
   "outputs": [],
   "source": [
    "class Solution:\n",
    "    def twoSum(selfself, nums:List[int], target: int) -> List[int]:\n",
    "        map = dict()\n",
    "        for i in range(len(nums)):\n",
    "            complement = target - nums[i]\n",
    "            if complement in map:\n",
    "                return [map[complement], i]\n",
    "            map[nums[i]] = i\n",
    "\n"
   ],
   "metadata": {
    "collapsed": false,
    "pycharm": {
     "name": "#%% python\n"
    }
   }
  }
 ],
 "metadata": {
  "kernelspec": {
   "display_name": "Python 3",
   "language": "python",
   "name": "python3"
  },
  "language_info": {
   "codemirror_mode": {
    "name": "ipython",
    "version": 2
   },
   "file_extension": ".py",
   "mimetype": "text/x-python",
   "name": "python",
   "nbconvert_exporter": "python",
   "pygments_lexer": "ipython2",
   "version": "2.7.6"
  }
 },
 "nbformat": 4,
 "nbformat_minor": 0
}